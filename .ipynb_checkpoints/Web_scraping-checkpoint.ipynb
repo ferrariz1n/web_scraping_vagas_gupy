{
 "cells": [
  {
   "cell_type": "code",
   "execution_count": 7,
   "id": "9fd057d5-8897-4897-a3b3-32588b303ffc",
   "metadata": {},
   "outputs": [
    {
     "data": {
      "text/plain": [
       "'\\n1- CRD de listas de sites em um csv\\n2- Webscraping\\n'"
      ]
     },
     "execution_count": 7,
     "metadata": {},
     "output_type": "execute_result"
    }
   ],
   "source": [
    "\"\"\"\n",
    "1- CRD de listas de sites em um csv\n",
    "2- Webscraping\n",
    "\"\"\""
   ]
  },
  {
   "cell_type": "code",
   "execution_count": 5,
   "id": "46fd38cb-5480-41a1-b262-8c5ba36b62a3",
   "metadata": {},
   "outputs": [],
   "source": [
    "#importar bibliotecas\n",
    "import pandas as pd\n",
    "import requests\n",
    "from bs4 import BeautifulSoup"
   ]
  },
  {
   "cell_type": "code",
   "execution_count": 8,
   "id": "e1cec862-87a9-42fc-9a63-125a554c608a",
   "metadata": {},
   "outputs": [
    {
     "name": "stdout",
     "output_type": "stream",
     "text": [
      "                                                Link\n",
      "0  https://github.com/ferrariz1n/WebScraping/blob...\n"
     ]
    }
   ],
   "source": [
    "#Ver a lista de sites\n",
    "def show_sites_list():\n",
    "    links = pd.read_csv(\"links_de_vagas.csv\")\n",
    "    print(links)\n",
    "show_sites_list()"
   ]
  },
  {
   "cell_type": "code",
   "execution_count": 53,
   "id": "cfa0f626-be57-439c-b24f-b13f6c59ea46",
   "metadata": {},
   "outputs": [
    {
     "name": "stdin",
     "output_type": "stream",
     "text": [
      "Novo link de busca:  https://portal.gupy.io/job-search/term=dados\n"
     ]
    }
   ],
   "source": [
    "#Adicionar um novo site na lista de sites\n",
    "def add_new_site():\n",
    "  links = pd.read_csv(\"links_de_vagas.csv\")\n",
    "  novo_link = input(\"Novo link de busca: \")\n",
    "  nova_linha = {'Link': novo_link}\n",
    "  links = pd.concat([links, pd.DataFrame([nova_linha])], ignore_index=True) \n",
    "  links.to_csv(\"links_de_vagas.csv\", index=False)\n",
    "add_new_site()"
   ]
  },
  {
   "cell_type": "code",
   "execution_count": 52,
   "id": "63ee85cc-97e8-4598-bbbd-9a35e34222fe",
   "metadata": {},
   "outputs": [
    {
     "name": "stdout",
     "output_type": "stream",
     "text": [
      "                                                Link\n",
      "0  https://github.com/ferrariz1n/WebScraping/blob...\n"
     ]
    },
    {
     "name": "stdin",
     "output_type": "stream",
     "text": [
      "Digite o índice da linha a ser deletada:  0\n"
     ]
    }
   ],
   "source": [
    "#Remover um site da lista de sites\n",
    "def remove_site():\n",
    "    links = pd.read_csv(\"links_de_vagas.csv\")\n",
    "    print(links)\n",
    "    linha_para_deletar = int(input(\"Digite o índice da linha a ser deletada: \"))\n",
    "    links = links.drop(linha_para_deletar)\n",
    "    links.to_csv(\"links_de_vagas.csv\", index=False)\n",
    "remove_site()"
   ]
  },
  {
   "cell_type": "code",
   "execution_count": 142,
   "id": "453e71a1-1860-49d0-91b3-91fd851e6b37",
   "metadata": {},
   "outputs": [
    {
     "ename": "SyntaxError",
     "evalue": "invalid syntax (2789596009.py, line 10)",
     "output_type": "error",
     "traceback": [
      "\u001b[1;36m  Cell \u001b[1;32mIn[142], line 10\u001b[1;36m\u001b[0m\n\u001b[1;33m    posts=site.find_all('ul',class=\"sc-a01de6b-0 ypLsU\")\u001b[0m\n\u001b[1;37m                             ^\u001b[0m\n\u001b[1;31mSyntaxError\u001b[0m\u001b[1;31m:\u001b[0m invalid syntax\n"
     ]
    }
   ],
   "source": [
    "#Faz a busca de novas vagas\n",
    "def find_vacancies():\n",
    "    links = pd.read_csv(\"links_de_vagas.csv\")\n",
    "    vagas = pd.read_csv(\"lista_de_vagas.csv\")\n",
    "    \n",
    "    for i in range(len(links)):\n",
    "        url = links.iloc[i, 0]\n",
    "        requisicao = requests.get(url)\n",
    "        site=BeautifulSoup(requisicao.text, \"html.parser\")\n",
    "        posts=site.find_all('ul',class=\"sc-a01de6b-0 ypLsU\")\n",
    "        \n",
    "    #for i in range(len)\n",
    "        post=posts[0]\n",
    "        #Empresa\n",
    "        empresa = post.find('div',{'aria-label':'Empresa Join'})\n",
    "        #Vaga\n",
    "        #Local\n",
    "        #Tipo de Vaga\n",
    "        #Tipo de contrato\n",
    "        #Data de publicação\n",
    "        print(empresa)\n",
    "find_vacancies()"
   ]
  },
  {
   "cell_type": "code",
   "execution_count": null,
   "id": "1f82a774-9ce2-4feb-b9f8-1b27950c510f",
   "metadata": {},
   "outputs": [],
   "source": []
  }
 ],
 "metadata": {
  "kernelspec": {
   "display_name": "Python (venv_web_scraping)",
   "language": "python",
   "name": "venv_web_scraping"
  },
  "language_info": {
   "codemirror_mode": {
    "name": "ipython",
    "version": 3
   },
   "file_extension": ".py",
   "mimetype": "text/x-python",
   "name": "python",
   "nbconvert_exporter": "python",
   "pygments_lexer": "ipython3",
   "version": "3.11.5"
  }
 },
 "nbformat": 4,
 "nbformat_minor": 5
}
